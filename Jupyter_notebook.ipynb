{
 "cells": [
  {
   "cell_type": "markdown",
   "metadata": {
    "collapsed": true
   },
   "source": [
    "<H1>My Jupyter Notebook on IBM Watson Studio</h1>"
   ]
  },
  {
   "cell_type": "markdown",
   "metadata": {},
   "source": [
    "<h2><b>Ramanpreet Singh</b></h2>\n",
    "<p>Student in Algonquin college</p>"
   ]
  },
  {
   "cell_type": "markdown",
   "metadata": {},
   "source": [
    "<p><i>I am intrested in data science as this gives so much of opportunity for  imporvement which we cannot do because of lack of knowlegde and facts. This helps to find so many answers and solutions to the problems we are facing in real world problems.</i></p>"
   ]
  },
  {
   "cell_type": "markdown",
   "metadata": {},
   "source": [
    "<h3>The bottom code will define the for loop in the list</h3>"
   ]
  },
  {
   "cell_type": "code",
   "execution_count": 3,
   "metadata": {},
   "outputs": [
    {
     "name": "stdout",
     "output_type": "stream",
     "text": [
      "Ford\n",
      "BMW\n",
      "Mercedes\n",
      "Toyota\n"
     ]
    }
   ],
   "source": [
    "cars = [\"Ford\", \"BMW\", \"Mercedes\", \"Toyota\"]\n",
    "for x in cars: print(x)"
   ]
  },
  {
   "cell_type": "markdown",
   "metadata": {},
   "source": [
    "<p>Monthly saving and expenditure.</p>\n",
    "<table>\n",
    "    <tr>\n",
    "        <th>Month</th>\n",
    "        <th>Earned in </th>\n",
    "        <th>Spend</th>\n",
    "        <th>Saved</th>\n",
    "    </tr>\n",
    "    <tr>\n",
    "        <td>January</td>\n",
    "        <td>&#x24;10000<td>\n",
    "        <td>&#x24;7500</td>\n",
    "        <td>&#x24;2500</td>\n",
    "    </tr>\n",
    "    <tr>\n",
    "        <td>February</td>\n",
    "        <td>&#x24;11000</td>\n",
    "        <td>&#x24;9000</td>\n",
    "        <td>&#x24;2000</td>\n",
    "    </tr>\n",
    "    <tr>\n",
    "        <td>March</td>\n",
    "        <td>&#x24;10500</td>\n",
    "        <td>&#x24;9500</td>\n",
    "        <td>&#x24;1000</td>\n",
    "    </tr>\n",
    "    <tr>\n",
    "        <td>April</td>\n",
    "        <td>&#x24;11000</td>\n",
    "        <td>&#x24;10000</td>\n",
    "        <td>&#x24;1000</td>\n",
    "    </tr>\n",
    "</table>\n",
    "\n",
    "<ol>\n",
    "    <li>Ford</li>\n",
    "    <li>BMW</li>\n",
    "    <li>Mercedes</li>\n",
    "    <li>Toyota</li>\n",
    "</ol>\n",
    "\n",
    "\n",
    "<a href = \"https://www.youtube.com/\">Click here to open Youtube</a>"
   ]
  },
  {
   "cell_type": "code",
   "execution_count": null,
   "metadata": {},
   "outputs": [],
   "source": []
  }
 ],
 "metadata": {
  "kernelspec": {
   "display_name": "Python 3.9",
   "language": "python",
   "name": "python3"
  },
  "language_info": {
   "codemirror_mode": {
    "name": "ipython",
    "version": 3
   },
   "file_extension": ".py",
   "mimetype": "text/x-python",
   "name": "python",
   "nbconvert_exporter": "python",
   "pygments_lexer": "ipython3",
   "version": "3.9.13"
  }
 },
 "nbformat": 4,
 "nbformat_minor": 1
}
